{
 "cells": [
  {
   "cell_type": "code",
   "execution_count": 1,
   "id": "bf17e0cc-e33c-4111-a3b9-5ec1c6e6aafa",
   "metadata": {},
   "outputs": [
    {
     "name": "stdout",
     "output_type": "stream",
     "text": [
      "1.1651090342679127\n",
      "5.1900311526479745\n"
     ]
    }
   ],
   "source": [
    "import numpy as np\n",
    "x=np.array([1,2,3,4,4,5,5,6,6,7])\n",
    "y=np.array([7,8,9,8,9,11,10,13,14,13])\n",
    "sigma_xx=np.cov(x,y)[0,0]\n",
    "sigma_xy=np.cov(x,y)[0,1]\n",
    "w1=sigma_xy/sigma_xx\n",
    "print(w1)\n",
    "w0=np.mean(y)-w1*np.mean(x)\n",
    "print(w0)\n"
   ]
  },
  {
   "cell_type": "code",
   "execution_count": 2,
   "id": "0e09273c-275b-4908-8dc5-04c9433eb887",
   "metadata": {},
   "outputs": [
    {
     "data": {
      "text/plain": [
       "array([[3.56666667, 4.15555556],\n",
       "       [4.15555556, 5.95555556]])"
      ]
     },
     "execution_count": 2,
     "metadata": {},
     "output_type": "execute_result"
    }
   ],
   "source": [
    "np.cov(x,y)"
   ]
  },
  {
   "cell_type": "code",
   "execution_count": 3,
   "id": "736f4313-858c-421e-8709-a11808f15edc",
   "metadata": {},
   "outputs": [
    {
     "data": {
      "text/plain": [
       "16.8411214953271"
      ]
     },
     "execution_count": 3,
     "metadata": {},
     "output_type": "execute_result"
    }
   ],
   "source": [
    "#y_pred=w0+w1*x1 ..........y=mx+c where w0=c,w1=m\n",
    "#testing\n",
    "x1=10\n",
    "y_pred=w0+w1*10\n",
    "y_pred\n"
   ]
  },
  {
   "cell_type": "code",
   "execution_count": 4,
   "id": "b4940a1b-db94-4852-bd67-257ae97b7e41",
   "metadata": {},
   "outputs": [],
   "source": [
    "#2day"
   ]
  },
  {
   "cell_type": "code",
   "execution_count": 5,
   "id": "e4e43ee5-e4b5-4efb-aa83-0b3d0f854c39",
   "metadata": {},
   "outputs": [],
   "source": [
    "import pandas as pd"
   ]
  },
  {
   "cell_type": "code",
   "execution_count": 6,
   "id": "34d97cf7-1612-49e1-bd47-b52199f4353d",
   "metadata": {},
   "outputs": [],
   "source": [
    "df = pd.read_csv(\"C:\\\\Users\\\\user\\\\Desktop\\\\Data science\\\\ML\\\\Salary_Data.csv\")"
   ]
  },
  {
   "cell_type": "code",
   "execution_count": 7,
   "id": "d12e1c31-ee7b-43ac-a708-83f4f7ffae83",
   "metadata": {},
   "outputs": [
    {
     "data": {
      "text/html": [
       "<div>\n",
       "<style scoped>\n",
       "    .dataframe tbody tr th:only-of-type {\n",
       "        vertical-align: middle;\n",
       "    }\n",
       "\n",
       "    .dataframe tbody tr th {\n",
       "        vertical-align: top;\n",
       "    }\n",
       "\n",
       "    .dataframe thead th {\n",
       "        text-align: right;\n",
       "    }\n",
       "</style>\n",
       "<table border=\"1\" class=\"dataframe\">\n",
       "  <thead>\n",
       "    <tr style=\"text-align: right;\">\n",
       "      <th></th>\n",
       "      <th>YearsExperience</th>\n",
       "      <th>Salary</th>\n",
       "    </tr>\n",
       "  </thead>\n",
       "  <tbody>\n",
       "    <tr>\n",
       "      <th>0</th>\n",
       "      <td>1.1</td>\n",
       "      <td>39343.0</td>\n",
       "    </tr>\n",
       "    <tr>\n",
       "      <th>1</th>\n",
       "      <td>1.3</td>\n",
       "      <td>46205.0</td>\n",
       "    </tr>\n",
       "    <tr>\n",
       "      <th>2</th>\n",
       "      <td>1.5</td>\n",
       "      <td>37731.0</td>\n",
       "    </tr>\n",
       "    <tr>\n",
       "      <th>3</th>\n",
       "      <td>2.0</td>\n",
       "      <td>43525.0</td>\n",
       "    </tr>\n",
       "    <tr>\n",
       "      <th>4</th>\n",
       "      <td>2.2</td>\n",
       "      <td>39891.0</td>\n",
       "    </tr>\n",
       "  </tbody>\n",
       "</table>\n",
       "</div>"
      ],
      "text/plain": [
       "   YearsExperience   Salary\n",
       "0              1.1  39343.0\n",
       "1              1.3  46205.0\n",
       "2              1.5  37731.0\n",
       "3              2.0  43525.0\n",
       "4              2.2  39891.0"
      ]
     },
     "execution_count": 7,
     "metadata": {},
     "output_type": "execute_result"
    }
   ],
   "source": [
    "df.head()"
   ]
  },
  {
   "cell_type": "code",
   "execution_count": 8,
   "id": "5ced58d9-2666-4d42-9625-759c7aeef74a",
   "metadata": {},
   "outputs": [
    {
     "data": {
      "text/plain": [
       "Index(['YearsExperience', 'Salary'], dtype='object')"
      ]
     },
     "execution_count": 8,
     "metadata": {},
     "output_type": "execute_result"
    }
   ],
   "source": [
    "df.columns"
   ]
  },
  {
   "cell_type": "code",
   "execution_count": 9,
   "id": "730dd0fc-c644-4c94-9e80-f2333a1e67ff",
   "metadata": {},
   "outputs": [],
   "source": [
    "x= df.YearsExperience #independent\n",
    "y = df.Salary #dependent"
   ]
  },
  {
   "cell_type": "code",
   "execution_count": 10,
   "id": "c7576f8f-e2dc-47f4-bbb3-b5a61d3e28e0",
   "metadata": {},
   "outputs": [
    {
     "name": "stdout",
     "output_type": "stream",
     "text": [
      "[1.54807478]\n",
      "[0.92873435]\n"
     ]
    }
   ],
   "source": [
    "n_iterations = 1000\n",
    "learning_rate= 0.01 #[0-1] CV hyper parameter(temperature): LLM\n",
    "\n",
    "import numpy as np\n",
    "\n",
    "#mean=0,std=1\n",
    "w0=np.random.randn(1)\n",
    "w1=np.random.randn(1)\n",
    "N=len(x)\n",
    "print(w0)\n",
    "print(w1)\n"
   ]
  },
  {
   "cell_type": "code",
   "execution_count": 11,
   "id": "b73a06f4-0dd5-41aa-849b-b260634fd48c",
   "metadata": {},
   "outputs": [
    {
     "name": "stdout",
     "output_type": "stream",
     "text": [
      "[25448.20163755]\n",
      "[9501.01026775]\n"
     ]
    }
   ],
   "source": [
    "#training\n",
    "for i in range(n_iterations):\n",
    "    y_pred = w0 +w1*x   #simple linear regression\n",
    "    error= y_pred - y \n",
    "\n",
    "    w0_d =(2/N)*np.sum(error)\n",
    "    w1_d = (2/N)*np.sum(error*x)\n",
    "\n",
    "#algorithm\n",
    "    w0 = w0-learning_rate*w0_d\n",
    "    w1 = w1- learning_rate*w1_d\n",
    "print(w0)\n",
    "print(w1)\n"
   ]
  },
  {
   "cell_type": "code",
   "execution_count": 12,
   "id": "9f051b13-96f0-402e-a69c-c710f48b2f11",
   "metadata": {},
   "outputs": [
    {
     "data": {
      "text/plain": [
       "53951.232440796026"
      ]
     },
     "execution_count": 12,
     "metadata": {},
     "output_type": "execute_result"
    }
   ],
   "source": [
    "y_pred = w0[0] + w1[0] *3\n",
    "y_pred"
   ]
  },
  {
   "cell_type": "markdown",
   "id": "40d7708b-b17e-4982-a8b2-61c2c116da76",
   "metadata": {},
   "source": [
    "from sklearn "
   ]
  },
  {
   "cell_type": "code",
   "execution_count": 13,
   "id": "60c703f0-a728-427a-a3d5-eb7cd28ff3b2",
   "metadata": {},
   "outputs": [],
   "source": [
    "y_pred = w0[0] + w1[0]*x"
   ]
  },
  {
   "cell_type": "code",
   "execution_count": 14,
   "id": "e7e35e39-cfeb-40ed-9610-f7ac48cd16fa",
   "metadata": {},
   "outputs": [],
   "source": [
    "#r-squared best matrix(r2) 1 model check garna"
   ]
  },
  {
   "cell_type": "code",
   "execution_count": 15,
   "id": "618daf0d-a993-4aca-8e2d-af3aca213150",
   "metadata": {},
   "outputs": [
    {
     "data": {
      "text/plain": [
       "0.955466239627027"
      ]
     },
     "execution_count": 15,
     "metadata": {},
     "output_type": "execute_result"
    }
   ],
   "source": [
    "from sklearn.metrics import r2_score\n",
    "r2_score(y_pred,y) #[0-1]"
   ]
  },
  {
   "cell_type": "code",
   "execution_count": 16,
   "id": "5e6f04f7-496d-4664-a15b-21e3635e8237",
   "metadata": {},
   "outputs": [],
   "source": [
    "#0.95=95% vayo this is apply significant model = determine graxa "
   ]
  },
  {
   "cell_type": "code",
   "execution_count": 17,
   "id": "0b15b596-7707-41a5-a2c5-182cce80f834",
   "metadata": {},
   "outputs": [],
   "source": [
    "#train test split \n",
    "import pandas as pd\n",
    "df = pd.read_csv(\"C:\\\\Users\\\\user\\\\Desktop\\\\Data science\\\\ML\\\\Salary_Data.csv\")\n",
    "x= df.YearsExperience #independent\n",
    "y = df.Salary #dependent\n",
    "\n",
    "#testing : model trained navako data ma test\n",
    "#same answer ko lagi split\n",
    "from sklearn.model_selection import train_test_split\n",
    "xtrain,xtest,ytrain,ytest = train_test_split(x,y,train_size=0.8,random_state =444)"
   ]
  },
  {
   "cell_type": "code",
   "execution_count": 18,
   "id": "abbd569b-1fb8-4b19-89ce-b68e4c497ce6",
   "metadata": {},
   "outputs": [
    {
     "name": "stdout",
     "output_type": "stream",
     "text": [
      "6      3.0\n",
      "18     5.9\n",
      "24     8.7\n",
      "25     9.0\n",
      "0      1.1\n",
      "17     5.3\n",
      "11     4.0\n",
      "14     4.5\n",
      "28    10.3\n",
      "2      1.5\n",
      "21     7.1\n",
      "10     3.9\n",
      "22     7.9\n",
      "9      3.7\n",
      "26     9.5\n",
      "15     4.9\n",
      "12     4.0\n",
      "7      3.2\n",
      "20     6.8\n",
      "29    10.5\n",
      "8      3.2\n",
      "23     8.2\n",
      "16     5.1\n",
      "3      2.0\n",
      "Name: YearsExperience, dtype: float64\n",
      "1     1.3\n",
      "4     2.2\n",
      "5     2.9\n",
      "19    6.0\n",
      "13    4.1\n",
      "27    9.6\n",
      "Name: YearsExperience, dtype: float64\n",
      "6      60150.0\n",
      "18     81363.0\n",
      "24    109431.0\n",
      "25    105582.0\n",
      "0      39343.0\n",
      "17     83088.0\n",
      "11     55794.0\n",
      "14     61111.0\n",
      "28    122391.0\n",
      "2      37731.0\n",
      "21     98273.0\n",
      "10     63218.0\n",
      "22    101302.0\n",
      "9      57189.0\n",
      "26    116969.0\n",
      "15     67938.0\n",
      "12     56957.0\n",
      "7      54445.0\n",
      "20     91738.0\n",
      "29    121872.0\n",
      "8      64445.0\n",
      "23    113812.0\n",
      "16     66029.0\n",
      "3      43525.0\n",
      "Name: Salary, dtype: float64\n",
      "1      46205.0\n",
      "4      39891.0\n",
      "5      56642.0\n",
      "19     93940.0\n",
      "13     57081.0\n",
      "27    112635.0\n",
      "Name: Salary, dtype: float64\n"
     ]
    }
   ],
   "source": [
    "print(xtrain)\n",
    "print(xtest)\n",
    "print(ytrain)\n",
    "print(ytest)"
   ]
  },
  {
   "cell_type": "code",
   "execution_count": 19,
   "id": "a6bd90fa-d762-4659-a27c-e9c024290440",
   "metadata": {},
   "outputs": [
    {
     "name": "stdout",
     "output_type": "stream",
     "text": [
      "[0.53566848]\n",
      "[0.19447689]\n",
      "[24441.68959644]\n",
      "[9638.55612348]\n"
     ]
    }
   ],
   "source": [
    "n_iterations = 1000\n",
    "learning_rate= 0.01 #[0-1] CV hyper parameter(temperature): LLM\n",
    "\n",
    "import numpy as np\n",
    "\n",
    "#mean=0,std=1\n",
    "w0=np.random.randn(1)\n",
    "w1=np.random.randn(1)\n",
    "N=len(xtrain)\n",
    "print(w0)\n",
    "print(w1)\n",
    "\n",
    "for i in range(n_iterations):\n",
    "    y_pred = w0 +w1*xtrain   #simple linear regression\n",
    "    error= y_pred - ytrain\n",
    "\n",
    "    w0_d =(2/N)*np.sum(error)\n",
    "    w1_d = (2/N)*np.sum(error*xtrain)\n",
    "\n",
    "#algorithm\n",
    "    w0 = w0-learning_rate*w0_d\n",
    "    w1 = w1- learning_rate*w1_d\n",
    "print(w0)\n",
    "print(w1)"
   ]
  },
  {
   "cell_type": "code",
   "execution_count": 20,
   "id": "8f3b525a-3261-451e-999c-30dab15d5ac3",
   "metadata": {},
   "outputs": [
    {
     "data": {
      "text/plain": [
       "1      36971.812557\n",
       "4      45646.513068\n",
       "5      52393.502355\n",
       "19     82273.026337\n",
       "13     63959.769703\n",
       "27    116971.828382\n",
       "Name: YearsExperience, dtype: float64"
      ]
     },
     "execution_count": 20,
     "metadata": {},
     "output_type": "execute_result"
    }
   ],
   "source": [
    "y_pred = w0 + w1 *xtest\n",
    "y_pred"
   ]
  },
  {
   "cell_type": "code",
   "execution_count": 21,
   "id": "3f338365-423d-4631-af4a-1e0dabcdc5b1",
   "metadata": {},
   "outputs": [
    {
     "data": {
      "text/plain": [
       "1      36971.812557\n",
       "4      45646.513068\n",
       "5      52393.502355\n",
       "19     82273.026337\n",
       "13     63959.769703\n",
       "27    116971.828382\n",
       "Name: YearsExperience, dtype: float64"
      ]
     },
     "execution_count": 21,
     "metadata": {},
     "output_type": "execute_result"
    }
   ],
   "source": [
    "y_pred = w0[0] + w1[0] *xtest\n",
    "y_pred"
   ]
  },
  {
   "cell_type": "code",
   "execution_count": 22,
   "id": "09ca14ce-2c16-4554-a188-10c018b637c0",
   "metadata": {},
   "outputs": [
    {
     "data": {
      "text/plain": [
       "0.9213913323929901"
      ]
     },
     "execution_count": 22,
     "metadata": {},
     "output_type": "execute_result"
    }
   ],
   "source": [
    "from sklearn.metrics import r2_score\n",
    "r2_score(y_pred,ytest)"
   ]
  },
  {
   "cell_type": "code",
   "execution_count": 24,
   "id": "005ca10a-6d07-46c3-a2a6-f0483ac10c31",
   "metadata": {},
   "outputs": [
    {
     "name": "stdout",
     "output_type": "stream",
     "text": [
      "[[-1.36011263]\n",
      " [-1.10552744]\n",
      " [-1.419919  ]\n",
      " [-1.20495739]\n",
      " [-1.33978143]\n",
      " [-0.71830716]\n",
      " [-0.58815781]\n",
      " [-0.79981746]\n",
      " [-0.42881019]\n",
      " [-0.69801306]\n",
      " [-0.47433279]\n",
      " [-0.74976858]\n",
      " [-0.70662043]\n",
      " [-0.70201994]\n",
      " [-0.55250402]\n",
      " [-0.29921736]\n",
      " [-0.37004264]\n",
      " [ 0.26285865]\n",
      " [ 0.19885989]\n",
      " [ 0.66547573]\n",
      " [ 0.58377993]\n",
      " [ 0.82623317]\n",
      " [ 0.93861127]\n",
      " [ 1.40274136]\n",
      " [ 1.24020308]\n",
      " [ 1.09740238]\n",
      " [ 1.51986835]\n",
      " [ 1.3590738 ]\n",
      " [ 1.72102849]\n",
      " [ 1.70177321]]\n"
     ]
    }
   ],
   "source": [
    "df.Salary\n",
    "\n",
    "#standard scaler\n",
    "# normalization\n",
    "\n",
    "from sklearn.preprocessing import StandardScaler\n",
    "\n",
    "sc = StandardScaler()\n",
    "\n",
    "y = sc.fit_transform(df.Salary.values.reshape(-1,1))\n",
    "\n",
    "X = sc.fit_transform(df.YearsExperience.values.reshape(-1,1))\n",
    "print(y)"
   ]
  },
  {
   "cell_type": "code",
   "execution_count": 38,
   "id": "f7c0ebbd-4a01-4b1b-8fe0-c85c9b105271",
   "metadata": {},
   "outputs": [],
   "source": [
    "\n",
    "#libary\n",
    "\n",
    "import pandas as pd\n",
    "df = pd.read_csv(\"C:\\\\Users\\\\user\\\\Desktop\\\\Data science\\\\ML\\\\Salary_Data.csv\")\n",
    "x= df.YearsExperience #independent\n",
    "y = df.Salary #dependent\n",
    "\n",
    "#testing : model trained navako data ma test\n",
    "#same answer ko lagi split\n",
    "from sklearn.model_selection import train_test_split\n",
    "xtrain,xtest,ytrain,ytest = train_test_split(x,y,train_size=0.8,random_state =444)"
   ]
  },
  {
   "cell_type": "code",
   "execution_count": 39,
   "id": "9501b75c-643c-49ad-81b9-f8465181c2e4",
   "metadata": {},
   "outputs": [
    {
     "data": {
      "text/html": [
       "<style>#sk-container-id-3 {color: black;}#sk-container-id-3 pre{padding: 0;}#sk-container-id-3 div.sk-toggleable {background-color: white;}#sk-container-id-3 label.sk-toggleable__label {cursor: pointer;display: block;width: 100%;margin-bottom: 0;padding: 0.3em;box-sizing: border-box;text-align: center;}#sk-container-id-3 label.sk-toggleable__label-arrow:before {content: \"▸\";float: left;margin-right: 0.25em;color: #696969;}#sk-container-id-3 label.sk-toggleable__label-arrow:hover:before {color: black;}#sk-container-id-3 div.sk-estimator:hover label.sk-toggleable__label-arrow:before {color: black;}#sk-container-id-3 div.sk-toggleable__content {max-height: 0;max-width: 0;overflow: hidden;text-align: left;background-color: #f0f8ff;}#sk-container-id-3 div.sk-toggleable__content pre {margin: 0.2em;color: black;border-radius: 0.25em;background-color: #f0f8ff;}#sk-container-id-3 input.sk-toggleable__control:checked~div.sk-toggleable__content {max-height: 200px;max-width: 100%;overflow: auto;}#sk-container-id-3 input.sk-toggleable__control:checked~label.sk-toggleable__label-arrow:before {content: \"▾\";}#sk-container-id-3 div.sk-estimator input.sk-toggleable__control:checked~label.sk-toggleable__label {background-color: #d4ebff;}#sk-container-id-3 div.sk-label input.sk-toggleable__control:checked~label.sk-toggleable__label {background-color: #d4ebff;}#sk-container-id-3 input.sk-hidden--visually {border: 0;clip: rect(1px 1px 1px 1px);clip: rect(1px, 1px, 1px, 1px);height: 1px;margin: -1px;overflow: hidden;padding: 0;position: absolute;width: 1px;}#sk-container-id-3 div.sk-estimator {font-family: monospace;background-color: #f0f8ff;border: 1px dotted black;border-radius: 0.25em;box-sizing: border-box;margin-bottom: 0.5em;}#sk-container-id-3 div.sk-estimator:hover {background-color: #d4ebff;}#sk-container-id-3 div.sk-parallel-item::after {content: \"\";width: 100%;border-bottom: 1px solid gray;flex-grow: 1;}#sk-container-id-3 div.sk-label:hover label.sk-toggleable__label {background-color: #d4ebff;}#sk-container-id-3 div.sk-serial::before {content: \"\";position: absolute;border-left: 1px solid gray;box-sizing: border-box;top: 0;bottom: 0;left: 50%;z-index: 0;}#sk-container-id-3 div.sk-serial {display: flex;flex-direction: column;align-items: center;background-color: white;padding-right: 0.2em;padding-left: 0.2em;position: relative;}#sk-container-id-3 div.sk-item {position: relative;z-index: 1;}#sk-container-id-3 div.sk-parallel {display: flex;align-items: stretch;justify-content: center;background-color: white;position: relative;}#sk-container-id-3 div.sk-item::before, #sk-container-id-3 div.sk-parallel-item::before {content: \"\";position: absolute;border-left: 1px solid gray;box-sizing: border-box;top: 0;bottom: 0;left: 50%;z-index: -1;}#sk-container-id-3 div.sk-parallel-item {display: flex;flex-direction: column;z-index: 1;position: relative;background-color: white;}#sk-container-id-3 div.sk-parallel-item:first-child::after {align-self: flex-end;width: 50%;}#sk-container-id-3 div.sk-parallel-item:last-child::after {align-self: flex-start;width: 50%;}#sk-container-id-3 div.sk-parallel-item:only-child::after {width: 0;}#sk-container-id-3 div.sk-dashed-wrapped {border: 1px dashed gray;margin: 0 0.4em 0.5em 0.4em;box-sizing: border-box;padding-bottom: 0.4em;background-color: white;}#sk-container-id-3 div.sk-label label {font-family: monospace;font-weight: bold;display: inline-block;line-height: 1.2em;}#sk-container-id-3 div.sk-label-container {text-align: center;}#sk-container-id-3 div.sk-container {/* jupyter's `normalize.less` sets `[hidden] { display: none; }` but bootstrap.min.css set `[hidden] { display: none !important; }` so we also need the `!important` here to be able to override the default hidden behavior on the sphinx rendered scikit-learn.org. See: https://github.com/scikit-learn/scikit-learn/issues/21755 */display: inline-block !important;position: relative;}#sk-container-id-3 div.sk-text-repr-fallback {display: none;}</style><div id=\"sk-container-id-3\" class=\"sk-top-container\"><div class=\"sk-text-repr-fallback\"><pre>LinearRegression()</pre><b>In a Jupyter environment, please rerun this cell to show the HTML representation or trust the notebook. <br />On GitHub, the HTML representation is unable to render, please try loading this page with nbviewer.org.</b></div><div class=\"sk-container\" hidden><div class=\"sk-item\"><div class=\"sk-estimator sk-toggleable\"><input class=\"sk-toggleable__control sk-hidden--visually\" id=\"sk-estimator-id-3\" type=\"checkbox\" checked><label for=\"sk-estimator-id-3\" class=\"sk-toggleable__label sk-toggleable__label-arrow\">LinearRegression</label><div class=\"sk-toggleable__content\"><pre>LinearRegression()</pre></div></div></div></div></div>"
      ],
      "text/plain": [
       "LinearRegression()"
      ]
     },
     "execution_count": 39,
     "metadata": {},
     "output_type": "execute_result"
    }
   ],
   "source": [
    "#download\n",
    "#random forest,logistic regression\n",
    "\n",
    "from sklearn.linear_model import LinearRegression\n",
    "lr=LinearRegression()\n",
    "lr.fit(xtrain.values.reshape(-1,1),ytrain)\n"
   ]
  },
  {
   "cell_type": "code",
   "execution_count": 40,
   "id": "44a9825b-dba3-4408-afb2-3c3f8448a356",
   "metadata": {},
   "outputs": [
    {
     "data": {
      "text/plain": [
       "24936.30319494506"
      ]
     },
     "execution_count": 40,
     "metadata": {},
     "output_type": "execute_result"
    }
   ],
   "source": [
    "lr.coef_\n",
    "lr.intercept_"
   ]
  },
  {
   "cell_type": "code",
   "execution_count": 41,
   "id": "c84258ab-37a6-411a-80db-819ac49b92b7",
   "metadata": {},
   "outputs": [
    {
     "data": {
      "text/plain": [
       "0.9216056338858106"
      ]
     },
     "execution_count": 41,
     "metadata": {},
     "output_type": "execute_result"
    }
   ],
   "source": [
    "y_pred=lr.predict(xtest.values.reshape(-1,1))\n",
    "from sklearn.metrics import r2_score\n",
    "r2_score(y_pred,ytest)"
   ]
  },
  {
   "cell_type": "code",
   "execution_count": 42,
   "id": "7c2c4d01-ba20-4920-8866-6304e7add8a9",
   "metadata": {},
   "outputs": [
    {
     "data": {
      "text/plain": [
       "<matplotlib.collections.PathCollection at 0x202bbd59190>"
      ]
     },
     "execution_count": 42,
     "metadata": {},
     "output_type": "execute_result"
    },
    {
     "data": {
      "image/png": "[encoded data removed]",
      "text/plain": [
       "<Figure size 640x480 with 1 Axes>"
      ]
     },
     "metadata": {},
     "output_type": "display_data"
    }
   ],
   "source": [
    "\n",
    "#testing of linear regression\n",
    "\n",
    "import matplotlib.pyplot as plt\n",
    "\n",
    "#1 linearity test betn independent and dependent variable: correlation\n",
    "\n",
    "plt.scatter(x,y)"
   ]
  },
  {
   "cell_type": "code",
   "execution_count": 47,
   "id": "528d9094-23f7-431a-98b0-4167385fed76",
   "metadata": {},
   "outputs": [
    {
     "data": {
      "text/plain": [
       "PearsonRResult(statistic=0.9782416184887598, pvalue=1.1430681092271553e-20)"
      ]
     },
     "execution_count": 47,
     "metadata": {},
     "output_type": "execute_result"
    }
   ],
   "source": [
    "#correleation check \n",
    "from scipy.stats import pearsonr\n",
    "pearsonr(x,y)\n",
    "\n",
    "# from scipy.stats import spearmans\n",
    "# spearmans(x,y)"
   ]
  },
  {
   "cell_type": "code",
   "execution_count": 55,
   "id": "d8dbd2df-5b7e-4052-b14d-e85747dc27cd",
   "metadata": {},
   "outputs": [
    {
     "data": {
      "text/plain": [
       "37.14597194848691"
      ]
     },
     "execution_count": 55,
     "metadata": {},
     "output_type": "execute_result"
    }
   ],
   "source": [
    "#2. Multicollinearity test\n",
    "\n",
    "from statsmodels.stats.outliers_influence import variance_inflation_factor\n",
    "variance_inflation_factor(df,0)\n",
    "# "
   ]
  },
  {
   "cell_type": "code",
   "execution_count": null,
   "id": "4bbb4fc1-6081-4daf-be8d-8257ed472c4a",
   "metadata": {},
   "outputs": [],
   "source": [
    "\n"
   ]
  }
 ],
 "metadata": {
  "kernelspec": {
   "display_name": "Python 3 (ipykernel)",
   "language": "python",
   "name": "python3"
  },
  "language_info": {
   "codemirror_mode": {
    "name": "ipython",
    "version": 3
   },
   "file_extension": ".py",
   "mimetype": "text/x-python",
   "name": "python",
   "nbconvert_exporter": "python",
   "pygments_lexer": "ipython3",
   "version": "3.11.4"
  }
 },
 "nbformat": 4,
 "nbformat_minor": 5
}
